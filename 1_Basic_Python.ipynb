{
  "nbformat": 4,
  "nbformat_minor": 0,
  "metadata": {
    "colab": {
      "name": "1_Basic_Python.ipynb",
      "provenance": [],
      "collapsed_sections": [],
      "mount_file_id": "13kzcCjNidxL-ZSrNIWD5x_fzqG_az6dZ",
      "authorship_tag": "ABX9TyOpR2ebO9kzvLQNB48xAPQQ",
      "include_colab_link": true
    },
    "kernelspec": {
      "name": "python3",
      "display_name": "Python 3"
    },
    "language_info": {
      "name": "python"
    }
  },
  "cells": [
    {
      "cell_type": "markdown",
      "metadata": {
        "id": "view-in-github",
        "colab_type": "text"
      },
      "source": [
        "<a href=\"https://colab.research.google.com/github/Prakharjain1211/Machine-Learning/blob/main/1_Basic_Python.ipynb\" target=\"_parent\"><img src=\"https://colab.research.google.com/assets/colab-badge.svg\" alt=\"Open In Colab\"/></a>"
      ]
    },
    {
      "cell_type": "code",
      "source": [
        "#Append\n",
        "li = [13,65,7,23,54,19]\n",
        "li.append(100)\n",
        "li.append(70)\n",
        "print(li)"
      ],
      "metadata": {
        "colab": {
          "base_uri": "https://localhost:8080/"
        },
        "id": "60QEi3kiVoFd",
        "outputId": "cc04e6da-e130-4dff-8383-aec6fef23349"
      },
      "execution_count": 1,
      "outputs": [
        {
          "output_type": "stream",
          "name": "stdout",
          "text": [
            "[13, 65, 7, 23, 54, 19, 100, 70]\n"
          ]
        }
      ]
    },
    {
      "cell_type": "code",
      "source": [
        "#Extend\n",
        "li = [13,65,7,23,54,19]\n",
        "li.extend([100,101])\n",
        "print(li)"
      ],
      "metadata": {
        "colab": {
          "base_uri": "https://localhost:8080/"
        },
        "id": "dZfjBqj7WqJW",
        "outputId": "f8b7be3c-cf18-457e-cbc4-7e0f43f4bf25"
      },
      "execution_count": 2,
      "outputs": [
        {
          "output_type": "stream",
          "name": "stdout",
          "text": [
            "[13, 65, 7, 23, 54, 19, 100, 101]\n"
          ]
        }
      ]
    },
    {
      "cell_type": "code",
      "source": [
        "#Insert\n",
        "li = [13, 65, 7, 23, 54, 19, 100, 101]\n",
        "li.insert(5,23)\n",
        "print(li)"
      ],
      "metadata": {
        "colab": {
          "base_uri": "https://localhost:8080/"
        },
        "id": "olNcB6kTW0R1",
        "outputId": "c86a5fe4-5a89-42b2-a6f9-219dc338a1dc"
      },
      "execution_count": 3,
      "outputs": [
        {
          "output_type": "stream",
          "name": "stdout",
          "text": [
            "[13, 65, 7, 23, 54, 23, 19, 100, 101]\n"
          ]
        }
      ]
    },
    {
      "cell_type": "code",
      "source": [
        "#Remove\n",
        "li = [13, 65, 7, 23, 54, 23, 19, 100, 101]\n",
        "li.remove(19)\n",
        "print(li)"
      ],
      "metadata": {
        "colab": {
          "base_uri": "https://localhost:8080/"
        },
        "id": "w9GmppyLXFsV",
        "outputId": "6751993b-6871-43d0-b140-a2e9be897179"
      },
      "execution_count": 4,
      "outputs": [
        {
          "output_type": "stream",
          "name": "stdout",
          "text": [
            "[13, 65, 7, 23, 54, 23, 100, 101]\n"
          ]
        }
      ]
    },
    {
      "cell_type": "code",
      "source": [
        "#pop\n",
        "li = [13, 65, 7, 23, 54, 23, 101]\n",
        "li.pop(4)\n",
        "print(li)"
      ],
      "metadata": {
        "colab": {
          "base_uri": "https://localhost:8080/"
        },
        "id": "18PHKa9gXcZF",
        "outputId": "6a0a97e1-a692-4432-8130-c453a80bb05b"
      },
      "execution_count": 5,
      "outputs": [
        {
          "output_type": "stream",
          "name": "stdout",
          "text": [
            "[13, 65, 7, 23, 23, 101]\n"
          ]
        }
      ]
    },
    {
      "cell_type": "code",
      "source": [
        "#Slicing\n",
        "li = [13, 65, 7, 23, 23, 101]\n",
        "print(li[:4])  \n",
        "print(li[2:]) \n",
        "print(li[2:4]) \n",
        "print(li[:])"
      ],
      "metadata": {
        "colab": {
          "base_uri": "https://localhost:8080/"
        },
        "id": "YrLrcDyuX9Qz",
        "outputId": "437fe8dc-589c-4584-f848-4507b4e8ed17"
      },
      "execution_count": 6,
      "outputs": [
        {
          "output_type": "stream",
          "name": "stdout",
          "text": [
            "[13, 65, 7, 23]\n",
            "[7, 23, 23, 101]\n",
            "[7, 23]\n",
            "[13, 65, 7, 23, 23, 101]\n"
          ]
        }
      ]
    },
    {
      "cell_type": "code",
      "source": [
        "#Reverse\n",
        "li = [13, 65, 7, 23, 23, 101]\n",
        "li.reverse()\n",
        "print(li)"
      ],
      "metadata": {
        "colab": {
          "base_uri": "https://localhost:8080/"
        },
        "id": "0j9PlZsQYJxj",
        "outputId": "664f91e8-9689-4a83-c6d4-c466635cac5c"
      },
      "execution_count": 7,
      "outputs": [
        {
          "output_type": "stream",
          "name": "stdout",
          "text": [
            "[101, 23, 23, 7, 65, 13]\n"
          ]
        }
      ]
    },
    {
      "cell_type": "code",
      "source": [
        "#length\n",
        "li = [13, 65, 7, 23, 23, 101]\n",
        "print(len(li))"
      ],
      "metadata": {
        "colab": {
          "base_uri": "https://localhost:8080/"
        },
        "id": "OQoHWEymYbAz",
        "outputId": "d138dd0a-ed2f-42a5-a1de-6b878f4e3332"
      },
      "execution_count": 8,
      "outputs": [
        {
          "output_type": "stream",
          "name": "stdout",
          "text": [
            "6\n"
          ]
        }
      ]
    },
    {
      "cell_type": "code",
      "source": [
        "#Max and Min\n",
        "li = [13, 65, 7, 23, 23, 101]\n",
        "print(min(li))\n",
        "print(max(li))\n",
        "print(li.count(23))"
      ],
      "metadata": {
        "colab": {
          "base_uri": "https://localhost:8080/"
        },
        "id": "ylWNHYX-YvbT",
        "outputId": "996a2a84-441f-47ec-866d-d1b368435f1a"
      },
      "execution_count": 9,
      "outputs": [
        {
          "output_type": "stream",
          "name": "stdout",
          "text": [
            "7\n",
            "101\n",
            "2\n"
          ]
        }
      ]
    },
    {
      "cell_type": "code",
      "source": [
        "List = [2,26,26,8,1,10,1,20,8,24,20,9,12,3,1,14,12,19,20,31,3,8,31,30,275,7,14,20,1,25]\n",
        "print(List[::-2])\n",
        "print(List[:5])\n",
        "print(List[3:12:-2])\n",
        "\n"
      ],
      "metadata": {
        "colab": {
          "base_uri": "https://localhost:8080/"
        },
        "id": "c3oe-Xr7dX3c",
        "outputId": "a6ef0906-8c72-41c3-a22c-60e7b435a8a4"
      },
      "execution_count": 10,
      "outputs": [
        {
          "output_type": "stream",
          "name": "stdout",
          "text": [
            "[25, 20, 7, 30, 8, 31, 19, 14, 3, 9, 24, 20, 10, 8, 26]\n",
            "[2, 26, 26, 8, 1]\n",
            "[]\n"
          ]
        }
      ]
    },
    {
      "cell_type": "code",
      "source": [
        ""
      ],
      "metadata": {
        "id": "OT5SrWxZlcDh"
      },
      "execution_count": 10,
      "outputs": []
    }
  ]
}